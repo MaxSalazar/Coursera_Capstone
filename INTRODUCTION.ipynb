{
 "cells": [
  {
   "cell_type": "markdown",
   "metadata": {},
   "source": [
    "# <p style=\"text-align: center;\"> <span style=\"color:WHITE\"> COMPARATIVE STUDY OF DIFFERENT ALGORITHMS FOR PREDICTING OCURRENCE AND SEVERITY OF CAR ACCIDENTS, BASED OF DIFERENT DRIVING CONDITIONS."
   ]
  },
  {
   "cell_type": "markdown",
   "metadata": {},
   "source": [
    "### 1. INTRODUCTION\n",
    "<p style=\"text-align: justify;\"> Despite the efforts made by both automobile manufacturers and authorities to guarantee road safety, traffic accidents constitute a considerable proportion of the injuries that occur annually and a major problem of the society.\n",
    "The assessment, by means of machine learning algorithms, of the weight that different parameters and conditions have on the occurrence of traffic accidents is proposed. With this evaluation, a vision is obtained about the influence of factors inherent to the driver, road conditions or weather conditions, on the occurrence and severity of traffic accidents.\n",
    "At the end of the study, a tool will be available to predict the probability of occurrence and the severity of traffic accidents, which can be very useful in the creation of specific technologies for their prevention."
   ]
  },
  {
   "cell_type": "code",
   "execution_count": null,
   "metadata": {},
   "outputs": [],
   "source": []
  }
 ],
 "metadata": {
  "kernelspec": {
   "display_name": "Python 3",
   "language": "python",
   "name": "python3"
  },
  "language_info": {
   "codemirror_mode": {
    "name": "ipython",
    "version": 3
   },
   "file_extension": ".py",
   "mimetype": "text/x-python",
   "name": "python",
   "nbconvert_exporter": "python",
   "pygments_lexer": "ipython3",
   "version": "3.7.0"
  }
 },
 "nbformat": 4,
 "nbformat_minor": 2
}
