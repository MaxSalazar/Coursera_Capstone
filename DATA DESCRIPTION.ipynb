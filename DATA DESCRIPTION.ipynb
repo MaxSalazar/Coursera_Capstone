{
 "cells": [
  {
   "cell_type": "markdown",
   "metadata": {},
   "source": [
    "# <p style=\"text-align: center;\"> <span style=\"color:WHITE\"> COMPARATIVE STUDY OF DIFFERENT ALGORITHMS FOR PREDICTING OCURRENCE AND SEVERITY OF CAR ACCIDENTS, BASED OF DIFERENT DRIVING CONDITIONS."
   ]
  },
  {
   "cell_type": "markdown",
   "metadata": {},
   "source": [
    " ###    1. INTRODUCTION\n",
    "<p style=\"text-align: justify;\">   Despite the efforts made by both automobile manufacturers and authorities to guarantee road safety, traffic accidents constitute a considerable proportion of the injuries that occur annually and a major problem of the society.\n",
    "The assessment, by means of machine learning algorithms, of the weight that different parameters and conditions have on the occurrence of traffic accidents is proposed. With this evaluation, a vision is obtained about the influence of factors inherent to the driver, road conditions or weather conditions, on the occurrence and severity of traffic accidents.\n",
    "At the end of the study, a tool will be available to predict the probability of occurrence and the severity of traffic accidents, which can be very useful in the creation of specific technologies for their prevention."
   ]
  },
  {
   "cell_type": "markdown",
   "metadata": {},
   "source": [
    "### 2. DATA\n",
    "#### 2.1. DATA SOURCE.\n",
    "Data provided by Coursera will be used fot this project. It could be downloaded from https://s3.us.cloud-object-storage.appdomain.cloud/cf-courses-data/CognitiveClass/DP0701EN/version-2/Data-Collisions.csv.\n",
    "Dataset was downloaded to local drive and opened for exploration and description.\n",
    "A file with metadata associated to the dataset was downloaded also.\n",
    "\n",
    "#### 2.2. DATA UNDERSTANDING\n",
    "<p style=\"text-align: justify;\"> Dataset consists of a CSV file containing data about car accidents in the city of Seattle in the period from January 2004 to May 2020. There are 194673,00 records of traffic accidents, with 38 columns representing different features of every incident.\n",
    "Among the features can be found the *Severity Code*, which will be the target variable, having the following values and meaning:\n",
    "\n",
    "| Value               | Meaning                                                                       |\n",
    "|----------------     |-------------------------------------------------------------------------------|\n",
    "| 3  | fatality       |\n",
    "| 2b | serious injury |\n",
    "| 2  | injury         |\n",
    "| 1  | prop damage    |\n",
    "| 0  | unknown        |\n",
    "\n",
    "Features that could be used as predictors are: \n",
    "\n",
    "| Feature                    | Description                                                                           |\n",
    "|----------------|-------------------------------------------------------------------------------|\n",
    "|<p style=\"text-align: center;\"> <span style=\"color:GREEN\">ROAD AND WEATHER CONDITIONS |                                         \n",
    "| ADDRTYPE | Collision address type: • Alley / • Block • Intersection |\n",
    "| WEATHER            | A description of the weather conditions during the time of the collision.                                                                      |\n",
    "| ROADCOND      | The condition of the road during the collision.                                                                |\n",
    "| LIGHTCOND         | The light conditions during the collision. |\n",
    "|<p style=\"text-align: center;\"> <span style=\"color:GREEN\">DRIVER RELATED FACTORS                                        |\n",
    "| SPEEDING         | Whether or not speeding was a factor in the collision. (Y/N)|\n",
    "| INATTENTION      | Whether or not, driver's innatettion was the cause of the accident |\n",
    "| UNDERINFL        | Whether or not, driver was under influence of alcohol or drugs |\n",
    "| <p style=\"text-align: center;\"> <span style=\"color:GREEN\">OTHERS                                                                           |\n",
    "| LOCATION       | Description of the general location of the collision |\n",
    "| SEVERITYDESC   | A detailed description of the severity of the collision |\n",
    "| INCDATE         | Date of the incident                                                               |\n",
    "| X      | X coordinate of accident location |\n",
    "| Y      | Y coordinate of accident location |\n",
    "\n",
    "### Feature selection.\n",
    "After checking Metadata and basic statistic of the dataset, most of features were considered useless, with insufficient records or redundant for analysis.\n",
    "Features and reason to keep them are shown in the following table:\n",
    "\n",
    "| FEATURE                 |   <p style=\"text-align: center;\"> REASON FOR KEEPING IT   |\n",
    "|----------------------------|---------------------------|\n",
    "|  X / Y COORDINATES          | To see if any location have higher ocurrency of accidents than other |\n",
    "|  ADDRTYPE                   | To find relatioship between | \n",
    "| INCDATE / INCDTTM           | To see how is fluctuates accident ocurrence during the year and during the day                                                        |\n",
    "|  WEATHER / ROADCOND / LIGHT |  These are expected to be the features with the major impact on the prediction of target value                                                 |\n",
    "\n",
    "Features like _INATENTTION_ , _SPEEDING_ or _UNDERINFL_, related to driver conditions, were also kept so far because they might be considered important factors for predicting accident ocurrence and severity. Nevertheless, some issues were found on these records.\n",
    "\n",
    "|FEATURE                      |  ISSUE                                                 |\n",
    "|-----------------------------|--------------------------------------------------------|\n",
    "| SPEEDING                    | There are only 9333 records. The rest are empty values |\n",
    "| UNDERINFL                   | There are categorical  ( Y/N ) and numerical (1/0) values |\n",
    "\n",
    "Further analysis will help to decide if these features should be considered for the assesment.\n",
    "\n",
    "<p style=\"text-align: justify;\"> It will be estimated the correlation between the target variable and every feature.<br/>  Finally, various Machine Learning algorithm will be evaluated to quantify their performance in the prediction of car collision ocurrence and severity of these accidents."
   ]
  },
  {
   "cell_type": "code",
   "execution_count": null,
   "metadata": {},
   "outputs": [],
   "source": []
  }
 ],
 "metadata": {
  "kernelspec": {
   "display_name": "Python 3",
   "language": "python",
   "name": "python3"
  },
  "language_info": {
   "codemirror_mode": {
    "name": "ipython",
    "version": 3
   },
   "file_extension": ".py",
   "mimetype": "text/x-python",
   "name": "python",
   "nbconvert_exporter": "python",
   "pygments_lexer": "ipython3",
   "version": "3.7.0"
  }
 },
 "nbformat": 4,
 "nbformat_minor": 2
}
